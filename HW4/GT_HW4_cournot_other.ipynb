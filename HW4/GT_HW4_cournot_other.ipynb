{
  "nbformat": 4,
  "nbformat_minor": 0,
  "metadata": {
    "colab": {
      "provenance": [],
      "toc_visible": true
    },
    "kernelspec": {
      "name": "python3",
      "display_name": "Python 3"
    },
    "language_info": {
      "name": "python"
    }
  },
  "cells": [
    {
      "cell_type": "markdown",
      "source": [
        "# part 1"
      ],
      "metadata": {
        "id": "4c2957yUVe7H"
      }
    },
    {
      "cell_type": "code",
      "source": [
        "from scipy.optimize import fsolve\n",
        "\n",
        "def equations(vars):\n",
        "    x, y = vars\n",
        "    eq1 = 96 - 3*x**2 - 8*y\n",
        "    eq2 = 80 - 3*y**2 - 8*x\n",
        "    return [eq1, eq2]\n",
        "\n",
        "# Initial guess\n",
        "x0 = [1.0, 1.0]\n",
        "\n",
        "# Solve the system of equations\n",
        "solution = fsolve(equations, x0)\n",
        "\n",
        "# Display the solution\n",
        "x = solution[0]\n",
        "y = solution[1]\n",
        "print(\"Optimal solution:\")\n",
        "print(\"x =\", x)\n",
        "print(\"y =\", y)"
      ],
      "metadata": {
        "colab": {
          "base_uri": "https://localhost:8080/"
        },
        "id": "ztBLru6QUsMM",
        "outputId": "a738bf96-fd62-4846-957e-ef627742f6aa"
      },
      "execution_count": null,
      "outputs": [
        {
          "output_type": "stream",
          "name": "stdout",
          "text": [
            "Optimal solution:\n",
            "x = 4.686358148787525\n",
            "y = 3.7642677379848095\n"
          ]
        }
      ]
    },
    {
      "cell_type": "markdown",
      "source": [
        "# part 2"
      ],
      "metadata": {
        "id": "0qdElCrLUseX"
      }
    },
    {
      "cell_type": "code",
      "source": [
        "from scipy.optimize import fsolve\n",
        "\n",
        "def equations(vars):\n",
        "    x, y = vars\n",
        "    eq1 = 96 - 8*x - 3*x**2 - 8*y\n",
        "    eq2 = 80 - 8*y - 3*y**2 - 8*x\n",
        "    return [eq1, eq2]\n",
        "\n",
        "# Initial guess\n",
        "x0 = [1.0, 1.0]\n",
        "\n",
        "# Solve the system of equations\n",
        "solution = fsolve(equations, x0)\n",
        "\n",
        "# Display the solution\n",
        "x = solution[0]\n",
        "y = solution[1]\n",
        "print(\"Optimal solution:\")\n",
        "print(\"x =\", x)\n",
        "print(\"y =\", y)"
      ],
      "metadata": {
        "colab": {
          "base_uri": "https://localhost:8080/"
        },
        "id": "cTfODNDsUs8R",
        "outputId": "32490f12-e15c-4366-dc25-5137333d1d15"
      },
      "execution_count": null,
      "outputs": [
        {
          "output_type": "stream",
          "name": "stdout",
          "text": [
            "Optimal solution:\n",
            "x = 3.754337304900761\n",
            "y = 2.9600194704854714\n"
          ]
        }
      ]
    },
    {
      "cell_type": "markdown",
      "source": [
        "# part 4"
      ],
      "metadata": {
        "id": "YuwZqo2zUgwA"
      }
    },
    {
      "cell_type": "code",
      "source": [
        "from scipy import optimize\n",
        "\n",
        "def objective_function(vars):\n",
        "    x, y = vars\n",
        "    return -(96*x - 4*x**2 - x**3 - 8*x*y ) - (80*y - 4*y**2 - y**3 - 8*x*y)\n",
        "\n",
        "def constraint1(vars):\n",
        "    x, y = vars\n",
        "    return 96*x - 4*x**2 - x**3 - 8*x*y\n",
        "\n",
        "def constraint2(vars):\n",
        "    x, y = vars\n",
        "    return 80*y - 4*y**2 - y**3 - 8*x*y\n",
        "\n",
        "# Initial guess\n",
        "x0 = [1.0, 1.0]\n",
        "\n",
        "# Define the bounds and constraints\n",
        "bounds = [(0, None), (0, None)]\n",
        "constraints = [{'type': 'ineq', 'fun': constraint1},\n",
        "               {'type': 'ineq', 'fun': constraint2}]\n",
        "\n",
        "# Solve the optimization problem\n",
        "solution = optimize.minimize(objective_function, x0, bounds=bounds, constraints=constraints)\n",
        "\n",
        "if solution.success:\n",
        "    print(\"Optimization successful!\")\n",
        "    print(\"x =\", solution.x[0])\n",
        "    print(\"y =\", solution.x[1])\n",
        "    print(\"Objective value =\", -solution.fun)\n",
        "else:\n",
        "    print(\"Optimization failed:\", solution.message)"
      ],
      "metadata": {
        "colab": {
          "base_uri": "https://localhost:8080/"
        },
        "id": "STZhOfJXlqiW",
        "outputId": "179aba6a-d5a1-49c2-a805-a83e1bf9bf0a"
      },
      "execution_count": null,
      "outputs": [
        {
          "output_type": "stream",
          "name": "stdout",
          "text": [
            "Optimization successful!\n",
            "x = 3.6643371286648483\n",
            "y = 1.6501819589815503\n",
            "Objective value = 268.7438751087134\n"
          ]
        }
      ]
    }
  ]
}