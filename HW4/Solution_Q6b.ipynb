{
 "cells": [
  {
   "cell_type": "code",
   "execution_count": 1,
   "metadata": {},
   "outputs": [],
   "source": [
    "import numpy as np"
   ]
  },
  {
   "cell_type": "code",
   "execution_count": 2,
   "metadata": {},
   "outputs": [],
   "source": [
    "def shapley_value(N, V):\n",
    "    X = np.zeros(N)    \n",
    "    W = {}\n",
    "    for keys, values in V.items():\n",
    "        W[keys] = set()\n",
    "        for k in keys:\n",
    "            W[keys].add(int(k))\n",
    "            \n",
    "    for keys, values in V.items():\n",
    "        if values != 0: \n",
    "            for k in keys:\n",
    "                X[int(k)-1] += values/len(keys)\n",
    "\n",
    "            for k, v in W.items():\n",
    "                if v.intersection(W[keys]) == W[keys]:\n",
    "                    V[k] -= values\n",
    "                    \n",
    "    return f'Sh({N}, V) = {X}'"
   ]
  },
  {
   "cell_type": "code",
   "execution_count": 3,
   "metadata": {},
   "outputs": [],
   "source": [
    "N = 3\n",
    "V = {'1':6., '2':12., '3':18., ('1', '2'):30., ('1', '3'):60., ('2', '3'):90., ('1', '2', '3'):120.}"
   ]
  },
  {
   "cell_type": "code",
   "execution_count": 4,
   "metadata": {},
   "outputs": [
    {
     "data": {
      "text/plain": [
       "'Sh(3, V) = [22. 40. 58.]'"
      ]
     },
     "execution_count": 4,
     "metadata": {},
     "output_type": "execute_result"
    }
   ],
   "source": [
    "shapley_value(N, V)"
   ]
  },
  {
   "cell_type": "code",
   "execution_count": 5,
   "metadata": {},
   "outputs": [],
   "source": [
    "N = 4\n",
    "V = {'1':6., '2':12., '3':0., '4':18.,  \n",
    "     ('1', '2'):24., ('1', '3'):48., ('1', '4'):60., ('2', '3'):12., ('2', '4'):32., ('3', '4'):38.,\n",
    "     ('1', '2', '3'):120., ('1', '2', '4'):89., ('1', '3', '4'):150., ('2', '3', '4'):179.,\n",
    "     ('1', '2', '3', '4'):240.}"
   ]
  },
  {
   "cell_type": "code",
   "execution_count": 6,
   "metadata": {},
   "outputs": [
    {
     "data": {
      "text/plain": [
       "'Sh(4, V) = [48.33333333 49.33333333 70.66666667 71.66666667]'"
      ]
     },
     "execution_count": 6,
     "metadata": {},
     "output_type": "execute_result"
    }
   ],
   "source": [
    "shapley_value(N, V)"
   ]
  }
 ],
 "metadata": {
  "kernelspec": {
   "display_name": "Python 3",
   "language": "python",
   "name": "python3"
  },
  "language_info": {
   "codemirror_mode": {
    "name": "ipython",
    "version": 3
   },
   "file_extension": ".py",
   "mimetype": "text/x-python",
   "name": "python",
   "nbconvert_exporter": "python",
   "pygments_lexer": "ipython3",
   "version": "3.8.5"
  }
 },
 "nbformat": 4,
 "nbformat_minor": 4
}
